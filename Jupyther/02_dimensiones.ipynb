{
  "nbformat": 4,
  "nbformat_minor": 0,
  "metadata": {
    "colab": {
      "provenance": []
    },
    "kernelspec": {
      "name": "python3",
      "display_name": "Python 3"
    },
    "language_info": {
      "name": "python"
    }
  },
  "cells": [
    {
      "cell_type": "code",
      "execution_count": null,
      "metadata": {
        "id": "XMcQWE4ABqxo"
      },
      "outputs": [],
      "source": [
        "import numpy as np"
      ]
    },
    {
      "cell_type": "markdown",
      "source": [
        "Generando un Array de 12 elementos enteros con Random"
      ],
      "metadata": {
        "id": "GYtjtZ_kQR5x"
      }
    },
    {
      "cell_type": "code",
      "source": [
        "vector = np.arange(1,13)\n",
        "vector"
      ],
      "metadata": {
        "colab": {
          "base_uri": "https://localhost:8080/"
        },
        "id": "Qf2-qi_gQjM_",
        "outputId": "47377d41-ed16-411d-8853-4589cd66fac8"
      },
      "execution_count": null,
      "outputs": [
        {
          "output_type": "execute_result",
          "data": {
            "text/plain": [
              "array([ 1,  2,  3,  4,  5,  6,  7,  8,  9, 10, 11, 12])"
            ]
          },
          "metadata": {},
          "execution_count": 2
        }
      ]
    },
    {
      "cell_type": "markdown",
      "source": [
        "Obtener la dimension de arreglo"
      ],
      "metadata": {
        "id": "chQhLbKzQv_J"
      }
    },
    {
      "cell_type": "code",
      "source": [
        "np.shape(vector)"
      ],
      "metadata": {
        "colab": {
          "base_uri": "https://localhost:8080/"
        },
        "id": "u4j0ZtTlREfP",
        "outputId": "c4f28ad7-4df4-4cd2-d41a-a0ff4e7a8333"
      },
      "execution_count": null,
      "outputs": [
        {
          "output_type": "execute_result",
          "data": {
            "text/plain": [
              "(12,)"
            ]
          },
          "metadata": {},
          "execution_count": 3
        }
      ]
    },
    {
      "cell_type": "markdown",
      "source": [
        "Transformando del vector de 12 elementos a Matriz 4x3 con Reshape"
      ],
      "metadata": {
        "id": "1L8R3fDgRMwv"
      }
    },
    {
      "cell_type": "code",
      "source": [
        "matriz = vector.reshape(3,4)\n",
        "matriz"
      ],
      "metadata": {
        "colab": {
          "base_uri": "https://localhost:8080/"
        },
        "id": "F2GIEVPJRZsb",
        "outputId": "b2ec6ff9-8542-4c84-fcbf-b8f9b8e9fc27"
      },
      "execution_count": null,
      "outputs": [
        {
          "output_type": "execute_result",
          "data": {
            "text/plain": [
              "array([[ 1,  2,  3,  4],\n",
              "       [ 5,  6,  7,  8],\n",
              "       [ 9, 10, 11, 12]])"
            ]
          },
          "metadata": {},
          "execution_count": 4
        }
      ]
    },
    {
      "cell_type": "markdown",
      "source": [
        "Transformacion del vector de 12 elementos a Matriz 4x3 con Reshape"
      ],
      "metadata": {
        "id": "6Lcv3fRKRxlv"
      }
    },
    {
      "cell_type": "code",
      "source": [
        "np.shape(matriz)"
      ],
      "metadata": {
        "colab": {
          "base_uri": "https://localhost:8080/"
        },
        "id": "BGqFHW3rR4P3",
        "outputId": "d90f1a3b-4d34-42f4-e2e5-8452908f2917"
      },
      "execution_count": null,
      "outputs": [
        {
          "output_type": "execute_result",
          "data": {
            "text/plain": [
              "(3, 4)"
            ]
          },
          "metadata": {},
          "execution_count": 5
        }
      ]
    },
    {
      "cell_type": "markdown",
      "source": [
        "Otra tranformacion del vector de 9 elementos a Matriz 3x4 con Reshape"
      ],
      "metadata": {
        "id": "Zekp5H-MSHQ3"
      }
    },
    {
      "cell_type": "code",
      "source": [
        "matriz = vector.reshape(4,3)\n",
        "matriz"
      ],
      "metadata": {
        "colab": {
          "base_uri": "https://localhost:8080/"
        },
        "id": "FOXozYyzSQt3",
        "outputId": "1b418ffe-b62d-45c2-b475-89aa14a263c8"
      },
      "execution_count": null,
      "outputs": [
        {
          "output_type": "execute_result",
          "data": {
            "text/plain": [
              "array([[ 1,  2,  3],\n",
              "       [ 4,  5,  6],\n",
              "       [ 7,  8,  9],\n",
              "       [10, 11, 12]])"
            ]
          },
          "metadata": {},
          "execution_count": 6
        }
      ]
    },
    {
      "cell_type": "markdown",
      "source": [
        "Creando un Tensor"
      ],
      "metadata": {
        "id": "1MopyN9OSeU_"
      }
    },
    {
      "cell_type": "code",
      "source": [
        "t = [[[[1, 2, 3],[4, 5, 6],[7, 8, 9],[1, 2, 3]]]]\n",
        "print(t)"
      ],
      "metadata": {
        "colab": {
          "base_uri": "https://localhost:8080/"
        },
        "id": "mBqVoP24ShCn",
        "outputId": "cbe83cf2-3b52-471c-a21c-330cfb6e23bf"
      },
      "execution_count": null,
      "outputs": [
        {
          "output_type": "stream",
          "name": "stdout",
          "text": [
            "[[[[1, 2, 3], [4, 5, 6], [7, 8, 9], [1, 2, 3]]]]\n"
          ]
        }
      ]
    },
    {
      "cell_type": "code",
      "source": [
        "np.shape(t)"
      ],
      "metadata": {
        "colab": {
          "base_uri": "https://localhost:8080/"
        },
        "id": "7Z-I7s0zS1WX",
        "outputId": "86941c93-0ae6-423b-bdbb-84d36369208b"
      },
      "execution_count": null,
      "outputs": [
        {
          "output_type": "execute_result",
          "data": {
            "text/plain": [
              "(1, 1, 4, 3)"
            ]
          },
          "metadata": {},
          "execution_count": 34
        }
      ]
    },
    {
      "cell_type": "code",
      "source": [
        "dimension = np.shape(t)\n",
        "\n",
        "np.mean(dimension)\n",
        "dimension\n"
      ],
      "metadata": {
        "colab": {
          "base_uri": "https://localhost:8080/"
        },
        "id": "oTV27FKTTrZ-",
        "outputId": "443aa9ac-3c9a-4e2c-8bde-62c32e6e7b11"
      },
      "execution_count": null,
      "outputs": [
        {
          "output_type": "execute_result",
          "data": {
            "text/plain": [
              "(1, 1, 4, 3)"
            ]
          },
          "metadata": {},
          "execution_count": 35
        }
      ]
    },
    {
      "cell_type": "markdown",
      "source": [
        "Graficando el Vector generado Anteriormente"
      ],
      "metadata": {
        "id": "A5lX3_qyVSXn"
      }
    },
    {
      "cell_type": "markdown",
      "source": [],
      "metadata": {
        "id": "zWRyQWKdZWO2"
      }
    }
  ]
}