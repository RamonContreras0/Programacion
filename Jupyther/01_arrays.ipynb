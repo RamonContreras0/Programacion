{
  "nbformat": 4,
  "nbformat_minor": 0,
  "metadata": {
    "colab": {
      "provenance": []
    },
    "kernelspec": {
      "name": "python3",
      "display_name": "Python 3"
    },
    "language_info": {
      "name": "python"
    }
  },
  "cells": [
    {
      "cell_type": "markdown",
      "source": [
        "Importando libreria Numpy"
      ],
      "metadata": {
        "id": "o6x1w_wtzPpT"
      }
    },
    {
      "cell_type": "code",
      "execution_count": null,
      "metadata": {
        "id": "nwnD3PdkzDVz"
      },
      "outputs": [],
      "source": [
        "import numpy as np"
      ]
    },
    {
      "cell_type": "markdown",
      "source": [
        "Creando una lista de 10 elementos"
      ],
      "metadata": {
        "id": "i62Ud8U6zWyw"
      }
    },
    {
      "cell_type": "code",
      "source": [
        "lista = list(range(1,11))\n",
        "lista"
      ],
      "metadata": {
        "colab": {
          "base_uri": "https://localhost:8080/"
        },
        "id": "VzEySzKnzgXI",
        "outputId": "05dc39bf-4437-4735-90c6-e5799cbd3cba"
      },
      "execution_count": null,
      "outputs": [
        {
          "output_type": "execute_result",
          "data": {
            "text/plain": [
              "[1, 2, 3, 4, 5, 6, 7, 8, 9, 10]"
            ]
          },
          "metadata": {},
          "execution_count": 2
        }
      ]
    },
    {
      "cell_type": "markdown",
      "source": [
        "Transformar lista a un Array"
      ],
      "metadata": {
        "id": "I1OPfoz0zyep"
      }
    },
    {
      "cell_type": "code",
      "source": [
        "arreglo = np.array(lista)\n",
        "arreglo"
      ],
      "metadata": {
        "colab": {
          "base_uri": "https://localhost:8080/"
        },
        "id": "FUCE_GtezzIJ",
        "outputId": "aeff318f-9a4e-44d0-faa5-9fe2c9562d6f"
      },
      "execution_count": null,
      "outputs": [
        {
          "output_type": "execute_result",
          "data": {
            "text/plain": [
              "array([ 1,  2,  3,  4,  5,  6,  7,  8,  9, 10])"
            ]
          },
          "metadata": {},
          "execution_count": 4
        }
      ]
    },
    {
      "cell_type": "markdown",
      "source": [
        "Corroborando el tipo de Estructura"
      ],
      "metadata": {
        "id": "Wf2dZ5Dc0BcY"
      }
    },
    {
      "cell_type": "code",
      "source": [
        "type(arreglo)"
      ],
      "metadata": {
        "colab": {
          "base_uri": "https://localhost:8080/"
        },
        "id": "bi4UjGH-0Fup",
        "outputId": "5c1c847a-e62f-4685-b248-20975f57e767"
      },
      "execution_count": null,
      "outputs": [
        {
          "output_type": "execute_result",
          "data": {
            "text/plain": [
              "numpy.ndarray"
            ]
          },
          "metadata": {},
          "execution_count": 5
        }
      ]
    },
    {
      "cell_type": "markdown",
      "source": [
        "Corroborando el tipo de datos del arreglo"
      ],
      "metadata": {
        "id": "A_iMbdfb0TtB"
      }
    },
    {
      "cell_type": "code",
      "source": [
        "arreglo.dtype"
      ],
      "metadata": {
        "colab": {
          "base_uri": "https://localhost:8080/"
        },
        "id": "pTw1sO-Q0Ys5",
        "outputId": "68fed2ce-cbc8-470f-ca73-928c8fd7504b"
      },
      "execution_count": null,
      "outputs": [
        {
          "output_type": "execute_result",
          "data": {
            "text/plain": [
              "dtype('int64')"
            ]
          },
          "metadata": {},
          "execution_count": 6
        }
      ]
    },
    {
      "cell_type": "markdown",
      "source": [
        "Definiendo el Array de int64 a float 64"
      ],
      "metadata": {
        "id": "vQzTWj8S0fkp"
      }
    },
    {
      "cell_type": "code",
      "source": [
        "np.array(arreglo, dtype = np.float64)"
      ],
      "metadata": {
        "colab": {
          "base_uri": "https://localhost:8080/"
        },
        "id": "VQWw7epP1FX7",
        "outputId": "44a54f9a-f9fb-4ec8-e675-039f125c5550"
      },
      "execution_count": null,
      "outputs": [
        {
          "output_type": "execute_result",
          "data": {
            "text/plain": [
              "array([ 1.,  2.,  3.,  4.,  5.,  6.,  7.,  8.,  9., 10.])"
            ]
          },
          "metadata": {},
          "execution_count": 7
        }
      ]
    },
    {
      "cell_type": "markdown",
      "source": [
        "Sigue siendo un array de int 64"
      ],
      "metadata": {
        "id": "3GGhwhDm1T05"
      }
    },
    {
      "cell_type": "code",
      "source": [
        "arreglo"
      ],
      "metadata": {
        "colab": {
          "base_uri": "https://localhost:8080/"
        },
        "id": "UWlul1NE1b4R",
        "outputId": "05f7a25c-6428-46b1-d0e8-7a4b87317657"
      },
      "execution_count": null,
      "outputs": [
        {
          "output_type": "execute_result",
          "data": {
            "text/plain": [
              "array([ 1,  2,  3,  4,  5,  6,  7,  8,  9, 10])"
            ]
          },
          "metadata": {},
          "execution_count": 8
        }
      ]
    },
    {
      "cell_type": "markdown",
      "source": [
        "Transformando de int64 a float64"
      ],
      "metadata": {
        "id": "zY6VT_zH1jKp"
      }
    },
    {
      "cell_type": "code",
      "source": [
        "arreglo.astype(np.float64)"
      ],
      "metadata": {
        "colab": {
          "base_uri": "https://localhost:8080/"
        },
        "id": "D6Sc2sK41qu6",
        "outputId": "9d27daf5-156d-45f4-cad1-fbc2242068fa"
      },
      "execution_count": null,
      "outputs": [
        {
          "output_type": "execute_result",
          "data": {
            "text/plain": [
              "array([ 1.,  2.,  3.,  4.,  5.,  6.,  7.,  8.,  9., 10.])"
            ]
          },
          "metadata": {},
          "execution_count": 9
        }
      ]
    },
    {
      "cell_type": "markdown",
      "source": [
        "Tambien existe una funcion similar a Range pero ocupando Arrays"
      ],
      "metadata": {
        "id": "cooERB4k2G_T"
      }
    },
    {
      "cell_type": "code",
      "source": [
        "arreglonuevo = np.arange(1,11)\n",
        "arreglonuevo"
      ],
      "metadata": {
        "colab": {
          "base_uri": "https://localhost:8080/"
        },
        "id": "E58YAAY52NH5",
        "outputId": "26c10aca-85b6-4758-fc52-e2889a866c98"
      },
      "execution_count": null,
      "outputs": [
        {
          "output_type": "execute_result",
          "data": {
            "text/plain": [
              "array([ 1,  2,  3,  4,  5,  6,  7,  8,  9, 10])"
            ]
          },
          "metadata": {},
          "execution_count": 12
        }
      ]
    },
    {
      "cell_type": "markdown",
      "source": [
        "Arreglo de 2 en 2 utilixando Arange"
      ],
      "metadata": {
        "id": "wE99a9ih2rJC"
      }
    },
    {
      "cell_type": "code",
      "source": [
        "arreglonuevo2 = np.arange(1,11,2)\n",
        "arreglonuevo2"
      ],
      "metadata": {
        "colab": {
          "base_uri": "https://localhost:8080/"
        },
        "id": "LT0VJeMN2wh7",
        "outputId": "d1a80740-4163-4179-dd27-28bc835a6235"
      },
      "execution_count": null,
      "outputs": [
        {
          "output_type": "execute_result",
          "data": {
            "text/plain": [
              "array([1, 3, 5, 7, 9])"
            ]
          },
          "metadata": {},
          "execution_count": 13
        }
      ]
    },
    {
      "cell_type": "markdown",
      "source": [
        "<h4><font color = 'aquamarine'><b>Funciones de Numpy</b>></h4>"
      ],
      "metadata": {
        "id": "sH2LmKHk8-wX"
      }
    },
    {
      "cell_type": "code",
      "source": [
        "print(\"\\033[91mAlgunas Funciones de Numpy\\033[00m\")"
      ],
      "metadata": {
        "colab": {
          "base_uri": "https://localhost:8080/"
        },
        "id": "pFFjEM8D4qgp",
        "outputId": "8dfec3af-3d67-43fc-9403-3ab09039478d"
      },
      "execution_count": null,
      "outputs": [
        {
          "output_type": "stream",
          "name": "stdout",
          "text": [
            "\u001b[91mAlgunas Funciones de Numpy\u001b[00m\n"
          ]
        }
      ]
    },
    {
      "cell_type": "markdown",
      "source": [
        "<h3><font color = 'Red'><b>Sacando el promedio</b>></h3>"
      ],
      "metadata": {
        "id": "9QK2Ho_s9pHn"
      }
    },
    {
      "cell_type": "code",
      "source": [
        "promedio = np.mean(arreglo)\n",
        "promedio"
      ],
      "metadata": {
        "colab": {
          "base_uri": "https://localhost:8080/"
        },
        "id": "9nt5YgUY9FwK",
        "outputId": "0cd18327-be2f-48c9-afa2-8b60ae4b9c1c"
      },
      "execution_count": null,
      "outputs": [
        {
          "output_type": "execute_result",
          "data": {
            "text/plain": [
              "5.5"
            ]
          },
          "metadata": {},
          "execution_count": 35
        }
      ]
    },
    {
      "cell_type": "markdown",
      "source": [
        "Obteniendo la mediana del Array"
      ],
      "metadata": {
        "id": "-8HlSjkW-A63"
      }
    },
    {
      "cell_type": "code",
      "source": [
        "mediana = np.median(arreglo)\n",
        "mediana"
      ],
      "metadata": {
        "colab": {
          "base_uri": "https://localhost:8080/"
        },
        "id": "mKC6l-gt9w1C",
        "outputId": "de47cfb2-66e0-4e6c-cf2d-3867e9e9f65d"
      },
      "execution_count": null,
      "outputs": [
        {
          "output_type": "execute_result",
          "data": {
            "text/plain": [
              "5.5"
            ]
          },
          "metadata": {},
          "execution_count": 37
        }
      ]
    },
    {
      "cell_type": "markdown",
      "source": [
        "Desviacion Estandar del Arreglo"
      ],
      "metadata": {
        "id": "NyPzBUSl-WQf"
      }
    },
    {
      "cell_type": "code",
      "source": [
        "desviacion = np.std(arreglo)\n",
        "desviacion"
      ],
      "metadata": {
        "colab": {
          "base_uri": "https://localhost:8080/"
        },
        "id": "XJLXJtxZ-Pfg",
        "outputId": "04142d28-40c4-4f69-c4ad-9ee0850a70b2"
      },
      "execution_count": null,
      "outputs": [
        {
          "output_type": "execute_result",
          "data": {
            "text/plain": [
              "2.8722813232690143"
            ]
          },
          "metadata": {},
          "execution_count": 36
        }
      ]
    },
    {
      "cell_type": "markdown",
      "source": [
        "Generacion de 10 elementos de solo unos"
      ],
      "metadata": {
        "id": "BOuKBK6_-7t_"
      }
    },
    {
      "cell_type": "code",
      "source": [
        "arreglo_de_unos = np.ones(10)\n",
        "arreglo_de_unos"
      ],
      "metadata": {
        "colab": {
          "base_uri": "https://localhost:8080/"
        },
        "id": "1XagGflL-h8o",
        "outputId": "92c01e54-13a9-499b-b37a-88bc270a1848"
      },
      "execution_count": null,
      "outputs": [
        {
          "output_type": "execute_result",
          "data": {
            "text/plain": [
              "array([1., 1., 1., 1., 1., 1., 1., 1., 1., 1.])"
            ]
          },
          "metadata": {},
          "execution_count": 38
        }
      ]
    },
    {
      "cell_type": "markdown",
      "source": [
        "Generacion de 10 elementos de solo ceros"
      ],
      "metadata": {
        "id": "1TY28rGF_LI5"
      }
    },
    {
      "cell_type": "code",
      "source": [
        "arreglo_de_ceros = np.zeros(10)\n",
        "arreglo_de_ceros"
      ],
      "metadata": {
        "colab": {
          "base_uri": "https://localhost:8080/"
        },
        "id": "TZRYmgZ3_QxQ",
        "outputId": "80b720ed-f840-45fe-9e02-f24df441f657"
      },
      "execution_count": null,
      "outputs": [
        {
          "output_type": "execute_result",
          "data": {
            "text/plain": [
              "array([0., 0., 0., 0., 0., 0., 0., 0., 0., 0.])"
            ]
          },
          "metadata": {},
          "execution_count": 39
        }
      ]
    },
    {
      "cell_type": "markdown",
      "source": [
        "Transformando el arreglo de unos de punto flotante a enteros"
      ],
      "metadata": {
        "id": "gzMFVTk0_XIO"
      }
    },
    {
      "cell_type": "code",
      "source": [
        "arreglo_int_ones = arreglo_de_unos.astype(np.int64)\n",
        "arreglo_int_ones"
      ],
      "metadata": {
        "colab": {
          "base_uri": "https://localhost:8080/"
        },
        "id": "KtpaioZO_dBe",
        "outputId": "09197ec2-1004-4587-b07e-fa32aa9f751b"
      },
      "execution_count": null,
      "outputs": [
        {
          "output_type": "execute_result",
          "data": {
            "text/plain": [
              "array([1, 1, 1, 1, 1, 1, 1, 1, 1, 1])"
            ]
          },
          "metadata": {},
          "execution_count": 41
        }
      ]
    },
    {
      "cell_type": "markdown",
      "source": [
        "Utilizando la funcion Random"
      ],
      "metadata": {
        "id": "yrQjug62_o_A"
      }
    },
    {
      "cell_type": "markdown",
      "source": [
        "Generando arreglo aleatorio de 5 elementos"
      ],
      "metadata": {
        "id": "VmqeaR5r_yMu"
      }
    },
    {
      "cell_type": "code",
      "source": [
        "arreglo_aleatorio = np.random.rand(5)\n",
        "arreglo_aleatorio"
      ],
      "metadata": {
        "colab": {
          "base_uri": "https://localhost:8080/"
        },
        "id": "3fX3kUt-_3oe",
        "outputId": "4601bc66-0b28-4c58-eee5-5fab04af5883"
      },
      "execution_count": null,
      "outputs": [
        {
          "output_type": "execute_result",
          "data": {
            "text/plain": [
              "array([0.48444743, 0.02388474, 0.0551406 , 0.95076289, 0.82534684])"
            ]
          },
          "metadata": {},
          "execution_count": 42
        }
      ]
    },
    {
      "cell_type": "markdown",
      "source": [
        "Generando una matris aleatoria de 3x3"
      ],
      "metadata": {
        "id": "9Cqxv686AI__"
      }
    },
    {
      "cell_type": "code",
      "source": [
        "matriz = np.random.rand(3,3)\n",
        "matriz"
      ],
      "metadata": {
        "colab": {
          "base_uri": "https://localhost:8080/"
        },
        "id": "SU5yQOCjAOjG",
        "outputId": "9a478b6c-a09c-4397-b137-a7c7e2716532"
      },
      "execution_count": null,
      "outputs": [
        {
          "output_type": "execute_result",
          "data": {
            "text/plain": [
              "array([[0.37260538, 0.74727825, 0.21740772],\n",
              "       [0.09244183, 0.13881715, 0.51477283],\n",
              "       [0.44301874, 0.45944131, 0.5087756 ]])"
            ]
          },
          "metadata": {},
          "execution_count": 45
        }
      ]
    },
    {
      "cell_type": "markdown",
      "source": [
        "Generando un arreglo aleatorio de 10 numeros enteros del 1 al 1000"
      ],
      "metadata": {
        "id": "GT7U6P3lAdAc"
      }
    },
    {
      "cell_type": "code",
      "source": [
        "arreglo_aleatorio2= np.random.randint(1,1001,10)\n",
        "arreglo_aleatorio2"
      ],
      "metadata": {
        "colab": {
          "base_uri": "https://localhost:8080/"
        },
        "id": "dhxdnBQcAvBv",
        "outputId": "9a13ff90-ff6b-4d3d-a071-a31ebbd5d5db"
      },
      "execution_count": null,
      "outputs": [
        {
          "output_type": "execute_result",
          "data": {
            "text/plain": [
              "array([386,  72,  93, 661, 985, 603, 570, 538, 763, 271])"
            ]
          },
          "metadata": {},
          "execution_count": 47
        }
      ]
    },
    {
      "cell_type": "markdown",
      "source": [
        "Generando una matriz aleatoria de 10 numeros enteros del 1 al 100"
      ],
      "metadata": {
        "id": "77Xrsdi7A-f5"
      }
    },
    {
      "cell_type": "code",
      "source": [
        "matriz2 = np.random.randint(1,101,(10,10))\n",
        "matriz2"
      ],
      "metadata": {
        "colab": {
          "base_uri": "https://localhost:8080/"
        },
        "id": "NR0A8-eGBGom",
        "outputId": "80e8f541-a887-449e-8246-d54a58ffeb18"
      },
      "execution_count": null,
      "outputs": [
        {
          "output_type": "execute_result",
          "data": {
            "text/plain": [
              "array([[ 37,  44,  84,  63,  82,  27,  63,   2,  14, 100],\n",
              "       [ 11,  78,  70,  74,  15,  98,  81,  86,  13,  84],\n",
              "       [ 35,  96,  61,   5,  87,  18,  75,   5,  86,  77],\n",
              "       [ 72,  13,   8,  36,  93,  65,  69,   4,  29,  56],\n",
              "       [ 31,  79,  96,  19,  64,  51,  67,  98,  81,  40],\n",
              "       [ 36,  64,  77,  50,  90,  37,   9,  67,  17,   4],\n",
              "       [ 69,  25,   8,  18,  52,  98,  94,  67,  71,  34],\n",
              "       [ 63,  66,  93,  77,  72,  42,  90,  66,  92,  49],\n",
              "       [ 45,  16,  55,  37,  12,  54,  13,  67,   4,  98],\n",
              "       [ 23,  65,  25,  99,  48,  93,  65, 100,  61,  23]])"
            ]
          },
          "metadata": {},
          "execution_count": 48
        }
      ]
    }
  ]
}