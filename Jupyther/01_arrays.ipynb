{
  "cells": [
    {
      "cell_type": "markdown",
      "metadata": {
        "id": "o6x1w_wtzPpT"
      },
      "source": [
        "Importando libreria Numpy"
      ]
    },
    {
      "cell_type": "code",
      "execution_count": 1,
      "metadata": {
        "id": "nwnD3PdkzDVz"
      },
      "outputs": [
        {
          "ename": "ModuleNotFoundError",
          "evalue": "No module named 'numpy'",
          "output_type": "error",
          "traceback": [
            "\u001b[1;31m---------------------------------------------------------------------------\u001b[0m",
            "\u001b[1;31mModuleNotFoundError\u001b[0m                       Traceback (most recent call last)",
            "Cell \u001b[1;32mIn[1], line 1\u001b[0m\n\u001b[1;32m----> 1\u001b[0m \u001b[38;5;28;01mimport\u001b[39;00m \u001b[38;5;21;01mnumpy\u001b[39;00m \u001b[38;5;28;01mas\u001b[39;00m \u001b[38;5;21;01mnp\u001b[39;00m\n",
            "\u001b[1;31mModuleNotFoundError\u001b[0m: No module named 'numpy'"
          ]
        }
      ],
      "source": [
        "import numpy as np"
      ]
    },
    {
      "cell_type": "markdown",
      "metadata": {
        "id": "i62Ud8U6zWyw"
      },
      "source": [
        "Creando una lista de 10 elementos"
      ]
    },
    {
      "cell_type": "code",
      "execution_count": null,
      "metadata": {
        "colab": {
          "base_uri": "https://localhost:8080/"
        },
        "id": "VzEySzKnzgXI",
        "outputId": "05dc39bf-4437-4735-90c6-e5799cbd3cba"
      },
      "outputs": [
        {
          "ename": "",
          "evalue": "",
          "output_type": "error",
          "traceback": [
            "\u001b[1;31mLa ejecución de celdas con 'Python 3.12.3' requiere el paquete ipykernel.\n",
            "\u001b[1;31mEjecute el siguiente comando para instalar 'ipykernel' en el entorno de Python. comando \n",
            "\u001b[1;31m: 'c:/Users/ramon/AppData/Local/Programs/Python/Python312/python.exe -m pip install ipykernel -U --user --force-reinstall'"
          ]
        }
      ],
      "source": [
        "lista = list(range(1,11))\n",
        "lista"
      ]
    },
    {
      "cell_type": "markdown",
      "metadata": {
        "id": "I1OPfoz0zyep"
      },
      "source": [
        "Transformar lista a un Array"
      ]
    },
    {
      "cell_type": "code",
      "execution_count": null,
      "metadata": {
        "colab": {
          "base_uri": "https://localhost:8080/"
        },
        "id": "FUCE_GtezzIJ",
        "outputId": "aeff318f-9a4e-44d0-faa5-9fe2c9562d6f"
      },
      "outputs": [
        {
          "ename": "",
          "evalue": "",
          "output_type": "error",
          "traceback": [
            "\u001b[1;31mLa ejecución de celdas con 'Python 3.12.3' requiere el paquete ipykernel.\n",
            "\u001b[1;31mEjecute el siguiente comando para instalar 'ipykernel' en el entorno de Python. comando \n",
            "\u001b[1;31m: 'c:/Users/ramon/AppData/Local/Programs/Python/Python312/python.exe -m pip install ipykernel -U --user --force-reinstall'"
          ]
        }
      ],
      "source": [
        "arreglo = np.array(lista)\n",
        "arreglo"
      ]
    },
    {
      "cell_type": "markdown",
      "metadata": {
        "id": "Wf2dZ5Dc0BcY"
      },
      "source": [
        "Corroborando el tipo de Estructura"
      ]
    },
    {
      "cell_type": "code",
      "execution_count": null,
      "metadata": {
        "colab": {
          "base_uri": "https://localhost:8080/"
        },
        "id": "bi4UjGH-0Fup",
        "outputId": "5c1c847a-e62f-4685-b248-20975f57e767"
      },
      "outputs": [
        {
          "ename": "",
          "evalue": "",
          "output_type": "error",
          "traceback": [
            "\u001b[1;31mLa ejecución de celdas con 'Python 3.12.3' requiere el paquete ipykernel.\n",
            "\u001b[1;31mEjecute el siguiente comando para instalar 'ipykernel' en el entorno de Python. comando \n",
            "\u001b[1;31m: 'c:/Users/ramon/AppData/Local/Programs/Python/Python312/python.exe -m pip install ipykernel -U --user --force-reinstall'"
          ]
        }
      ],
      "source": [
        "type(arreglo)"
      ]
    },
    {
      "cell_type": "markdown",
      "metadata": {
        "id": "A_iMbdfb0TtB"
      },
      "source": [
        "Corroborando el tipo de datos del arreglo"
      ]
    },
    {
      "cell_type": "code",
      "execution_count": null,
      "metadata": {
        "colab": {
          "base_uri": "https://localhost:8080/"
        },
        "id": "pTw1sO-Q0Ys5",
        "outputId": "68fed2ce-cbc8-470f-ca73-928c8fd7504b"
      },
      "outputs": [
        {
          "ename": "",
          "evalue": "",
          "output_type": "error",
          "traceback": [
            "\u001b[1;31mLa ejecución de celdas con 'Python 3.12.3' requiere el paquete ipykernel.\n",
            "\u001b[1;31mEjecute el siguiente comando para instalar 'ipykernel' en el entorno de Python. comando \n",
            "\u001b[1;31m: 'c:/Users/ramon/AppData/Local/Programs/Python/Python312/python.exe -m pip install ipykernel -U --user --force-reinstall'"
          ]
        }
      ],
      "source": [
        "arreglo.dtype"
      ]
    },
    {
      "cell_type": "markdown",
      "metadata": {
        "id": "vQzTWj8S0fkp"
      },
      "source": [
        "Definiendo el Array de int64 a float 64"
      ]
    },
    {
      "cell_type": "code",
      "execution_count": null,
      "metadata": {
        "colab": {
          "base_uri": "https://localhost:8080/"
        },
        "id": "VQWw7epP1FX7",
        "outputId": "44a54f9a-f9fb-4ec8-e675-039f125c5550"
      },
      "outputs": [
        {
          "ename": "",
          "evalue": "",
          "output_type": "error",
          "traceback": [
            "\u001b[1;31mLa ejecución de celdas con 'Python 3.12.3' requiere el paquete ipykernel.\n",
            "\u001b[1;31mEjecute el siguiente comando para instalar 'ipykernel' en el entorno de Python. comando \n",
            "\u001b[1;31m: 'c:/Users/ramon/AppData/Local/Programs/Python/Python312/python.exe -m pip install ipykernel -U --user --force-reinstall'"
          ]
        }
      ],
      "source": [
        "np.array(arreglo, dtype = np.float64)"
      ]
    },
    {
      "cell_type": "markdown",
      "metadata": {
        "id": "3GGhwhDm1T05"
      },
      "source": [
        "Sigue siendo un array de int 64"
      ]
    },
    {
      "cell_type": "code",
      "execution_count": null,
      "metadata": {
        "colab": {
          "base_uri": "https://localhost:8080/"
        },
        "id": "UWlul1NE1b4R",
        "outputId": "05f7a25c-6428-46b1-d0e8-7a4b87317657"
      },
      "outputs": [
        {
          "ename": "",
          "evalue": "",
          "output_type": "error",
          "traceback": [
            "\u001b[1;31mLa ejecución de celdas con 'Python 3.12.3' requiere el paquete ipykernel.\n",
            "\u001b[1;31mEjecute el siguiente comando para instalar 'ipykernel' en el entorno de Python. comando \n",
            "\u001b[1;31m: 'c:/Users/ramon/AppData/Local/Programs/Python/Python312/python.exe -m pip install ipykernel -U --user --force-reinstall'"
          ]
        }
      ],
      "source": [
        "arreglo"
      ]
    },
    {
      "cell_type": "markdown",
      "metadata": {
        "id": "zY6VT_zH1jKp"
      },
      "source": [
        "Transformando de int64 a float64"
      ]
    },
    {
      "cell_type": "code",
      "execution_count": null,
      "metadata": {
        "colab": {
          "base_uri": "https://localhost:8080/"
        },
        "id": "D6Sc2sK41qu6",
        "outputId": "9d27daf5-156d-45f4-cad1-fbc2242068fa"
      },
      "outputs": [
        {
          "ename": "",
          "evalue": "",
          "output_type": "error",
          "traceback": [
            "\u001b[1;31mLa ejecución de celdas con 'Python 3.12.3' requiere el paquete ipykernel.\n",
            "\u001b[1;31mEjecute el siguiente comando para instalar 'ipykernel' en el entorno de Python. comando \n",
            "\u001b[1;31m: 'c:/Users/ramon/AppData/Local/Programs/Python/Python312/python.exe -m pip install ipykernel -U --user --force-reinstall'"
          ]
        }
      ],
      "source": [
        "arreglo.astype(np.float64)"
      ]
    },
    {
      "cell_type": "markdown",
      "metadata": {
        "id": "cooERB4k2G_T"
      },
      "source": [
        "Tambien existe una funcion similar a Range pero ocupando Arrays"
      ]
    },
    {
      "cell_type": "code",
      "execution_count": null,
      "metadata": {
        "colab": {
          "base_uri": "https://localhost:8080/"
        },
        "id": "E58YAAY52NH5",
        "outputId": "26c10aca-85b6-4758-fc52-e2889a866c98"
      },
      "outputs": [
        {
          "ename": "",
          "evalue": "",
          "output_type": "error",
          "traceback": [
            "\u001b[1;31mLa ejecución de celdas con 'Python 3.12.3' requiere el paquete ipykernel.\n",
            "\u001b[1;31mEjecute el siguiente comando para instalar 'ipykernel' en el entorno de Python. comando \n",
            "\u001b[1;31m: 'c:/Users/ramon/AppData/Local/Programs/Python/Python312/python.exe -m pip install ipykernel -U --user --force-reinstall'"
          ]
        }
      ],
      "source": [
        "arreglonuevo = np.arange(1,11)\n",
        "arreglonuevo"
      ]
    },
    {
      "cell_type": "markdown",
      "metadata": {
        "id": "wE99a9ih2rJC"
      },
      "source": [
        "Arreglo de 2 en 2 utilixando Arange"
      ]
    },
    {
      "cell_type": "code",
      "execution_count": null,
      "metadata": {
        "colab": {
          "base_uri": "https://localhost:8080/"
        },
        "id": "LT0VJeMN2wh7",
        "outputId": "d1a80740-4163-4179-dd27-28bc835a6235"
      },
      "outputs": [
        {
          "ename": "",
          "evalue": "",
          "output_type": "error",
          "traceback": [
            "\u001b[1;31mLa ejecución de celdas con 'Python 3.12.3' requiere el paquete ipykernel.\n",
            "\u001b[1;31mEjecute el siguiente comando para instalar 'ipykernel' en el entorno de Python. comando \n",
            "\u001b[1;31m: 'c:/Users/ramon/AppData/Local/Programs/Python/Python312/python.exe -m pip install ipykernel -U --user --force-reinstall'"
          ]
        }
      ],
      "source": [
        "arreglonuevo2 = np.arange(1,11,2)\n",
        "arreglonuevo2"
      ]
    },
    {
      "cell_type": "markdown",
      "metadata": {
        "id": "sH2LmKHk8-wX"
      },
      "source": [
        "<h4><font color = 'aquamarine'><b>Funciones de Numpy</b>></h4>"
      ]
    },
    {
      "cell_type": "code",
      "execution_count": null,
      "metadata": {
        "colab": {
          "base_uri": "https://localhost:8080/"
        },
        "id": "pFFjEM8D4qgp",
        "outputId": "8dfec3af-3d67-43fc-9403-3ab09039478d"
      },
      "outputs": [
        {
          "ename": "",
          "evalue": "",
          "output_type": "error",
          "traceback": [
            "\u001b[1;31mLa ejecución de celdas con 'Python 3.12.3' requiere el paquete ipykernel.\n",
            "\u001b[1;31mEjecute el siguiente comando para instalar 'ipykernel' en el entorno de Python. comando \n",
            "\u001b[1;31m: 'c:/Users/ramon/AppData/Local/Programs/Python/Python312/python.exe -m pip install ipykernel -U --user --force-reinstall'"
          ]
        }
      ],
      "source": [
        "print(\"\\033[91mAlgunas Funciones de Numpy\\033[00m\")"
      ]
    },
    {
      "cell_type": "markdown",
      "metadata": {
        "id": "9QK2Ho_s9pHn"
      },
      "source": [
        "<h3><font color = 'Red'><b>Sacando el promedio</b>></h3>"
      ]
    },
    {
      "cell_type": "code",
      "execution_count": null,
      "metadata": {
        "colab": {
          "base_uri": "https://localhost:8080/"
        },
        "id": "9nt5YgUY9FwK",
        "outputId": "0cd18327-be2f-48c9-afa2-8b60ae4b9c1c"
      },
      "outputs": [
        {
          "ename": "",
          "evalue": "",
          "output_type": "error",
          "traceback": [
            "\u001b[1;31mLa ejecución de celdas con 'Python 3.12.3' requiere el paquete ipykernel.\n",
            "\u001b[1;31mEjecute el siguiente comando para instalar 'ipykernel' en el entorno de Python. comando \n",
            "\u001b[1;31m: 'c:/Users/ramon/AppData/Local/Programs/Python/Python312/python.exe -m pip install ipykernel -U --user --force-reinstall'"
          ]
        }
      ],
      "source": [
        "promedio = np.mean(arreglo)\n",
        "promedio"
      ]
    },
    {
      "cell_type": "markdown",
      "metadata": {
        "id": "-8HlSjkW-A63"
      },
      "source": [
        "Obteniendo la mediana del Array"
      ]
    },
    {
      "cell_type": "code",
      "execution_count": null,
      "metadata": {
        "colab": {
          "base_uri": "https://localhost:8080/"
        },
        "id": "mKC6l-gt9w1C",
        "outputId": "de47cfb2-66e0-4e6c-cf2d-3867e9e9f65d"
      },
      "outputs": [
        {
          "ename": "",
          "evalue": "",
          "output_type": "error",
          "traceback": [
            "\u001b[1;31mLa ejecución de celdas con 'Python 3.12.3' requiere el paquete ipykernel.\n",
            "\u001b[1;31mEjecute el siguiente comando para instalar 'ipykernel' en el entorno de Python. comando \n",
            "\u001b[1;31m: 'c:/Users/ramon/AppData/Local/Programs/Python/Python312/python.exe -m pip install ipykernel -U --user --force-reinstall'"
          ]
        }
      ],
      "source": [
        "mediana = np.median(arreglo)\n",
        "mediana"
      ]
    },
    {
      "cell_type": "markdown",
      "metadata": {
        "id": "NyPzBUSl-WQf"
      },
      "source": [
        "Desviacion Estandar del Arreglo"
      ]
    },
    {
      "cell_type": "code",
      "execution_count": null,
      "metadata": {
        "colab": {
          "base_uri": "https://localhost:8080/"
        },
        "id": "XJLXJtxZ-Pfg",
        "outputId": "04142d28-40c4-4f69-c4ad-9ee0850a70b2"
      },
      "outputs": [
        {
          "ename": "",
          "evalue": "",
          "output_type": "error",
          "traceback": [
            "\u001b[1;31mLa ejecución de celdas con 'Python 3.12.3' requiere el paquete ipykernel.\n",
            "\u001b[1;31mEjecute el siguiente comando para instalar 'ipykernel' en el entorno de Python. comando \n",
            "\u001b[1;31m: 'c:/Users/ramon/AppData/Local/Programs/Python/Python312/python.exe -m pip install ipykernel -U --user --force-reinstall'"
          ]
        }
      ],
      "source": [
        "desviacion = np.std(arreglo)\n",
        "desviacion"
      ]
    },
    {
      "cell_type": "markdown",
      "metadata": {
        "id": "BOuKBK6_-7t_"
      },
      "source": [
        "Generacion de 10 elementos de solo unos"
      ]
    },
    {
      "cell_type": "code",
      "execution_count": null,
      "metadata": {
        "colab": {
          "base_uri": "https://localhost:8080/"
        },
        "id": "1XagGflL-h8o",
        "outputId": "92c01e54-13a9-499b-b37a-88bc270a1848"
      },
      "outputs": [
        {
          "ename": "",
          "evalue": "",
          "output_type": "error",
          "traceback": [
            "\u001b[1;31mLa ejecución de celdas con 'Python 3.12.3' requiere el paquete ipykernel.\n",
            "\u001b[1;31mEjecute el siguiente comando para instalar 'ipykernel' en el entorno de Python. comando \n",
            "\u001b[1;31m: 'c:/Users/ramon/AppData/Local/Programs/Python/Python312/python.exe -m pip install ipykernel -U --user --force-reinstall'"
          ]
        }
      ],
      "source": [
        "arreglo_de_unos = np.ones(10)\n",
        "arreglo_de_unos"
      ]
    },
    {
      "cell_type": "markdown",
      "metadata": {
        "id": "1TY28rGF_LI5"
      },
      "source": [
        "Generacion de 10 elementos de solo ceros"
      ]
    },
    {
      "cell_type": "code",
      "execution_count": null,
      "metadata": {
        "colab": {
          "base_uri": "https://localhost:8080/"
        },
        "id": "TZRYmgZ3_QxQ",
        "outputId": "80b720ed-f840-45fe-9e02-f24df441f657"
      },
      "outputs": [
        {
          "ename": "",
          "evalue": "",
          "output_type": "error",
          "traceback": [
            "\u001b[1;31mLa ejecución de celdas con 'Python 3.12.3' requiere el paquete ipykernel.\n",
            "\u001b[1;31mEjecute el siguiente comando para instalar 'ipykernel' en el entorno de Python. comando \n",
            "\u001b[1;31m: 'c:/Users/ramon/AppData/Local/Programs/Python/Python312/python.exe -m pip install ipykernel -U --user --force-reinstall'"
          ]
        }
      ],
      "source": [
        "arreglo_de_ceros = np.zeros(10)\n",
        "arreglo_de_ceros"
      ]
    },
    {
      "cell_type": "markdown",
      "metadata": {
        "id": "gzMFVTk0_XIO"
      },
      "source": [
        "Transformando el arreglo de unos de punto flotante a enteros"
      ]
    },
    {
      "cell_type": "code",
      "execution_count": null,
      "metadata": {
        "colab": {
          "base_uri": "https://localhost:8080/"
        },
        "id": "KtpaioZO_dBe",
        "outputId": "09197ec2-1004-4587-b07e-fa32aa9f751b"
      },
      "outputs": [
        {
          "ename": "",
          "evalue": "",
          "output_type": "error",
          "traceback": [
            "\u001b[1;31mLa ejecución de celdas con 'Python 3.12.3' requiere el paquete ipykernel.\n",
            "\u001b[1;31mEjecute el siguiente comando para instalar 'ipykernel' en el entorno de Python. comando \n",
            "\u001b[1;31m: 'c:/Users/ramon/AppData/Local/Programs/Python/Python312/python.exe -m pip install ipykernel -U --user --force-reinstall'"
          ]
        }
      ],
      "source": [
        "arreglo_int_ones = arreglo_de_unos.astype(np.int64)\n",
        "arreglo_int_ones"
      ]
    },
    {
      "cell_type": "markdown",
      "metadata": {
        "id": "yrQjug62_o_A"
      },
      "source": [
        "Utilizando la funcion Random"
      ]
    },
    {
      "cell_type": "markdown",
      "metadata": {
        "id": "VmqeaR5r_yMu"
      },
      "source": [
        "Generando arreglo aleatorio de 5 elementos"
      ]
    },
    {
      "cell_type": "code",
      "execution_count": null,
      "metadata": {
        "colab": {
          "base_uri": "https://localhost:8080/"
        },
        "id": "3fX3kUt-_3oe",
        "outputId": "4601bc66-0b28-4c58-eee5-5fab04af5883"
      },
      "outputs": [
        {
          "ename": "",
          "evalue": "",
          "output_type": "error",
          "traceback": [
            "\u001b[1;31mLa ejecución de celdas con 'Python 3.12.3' requiere el paquete ipykernel.\n",
            "\u001b[1;31mEjecute el siguiente comando para instalar 'ipykernel' en el entorno de Python. comando \n",
            "\u001b[1;31m: 'c:/Users/ramon/AppData/Local/Programs/Python/Python312/python.exe -m pip install ipykernel -U --user --force-reinstall'"
          ]
        }
      ],
      "source": [
        "arreglo_aleatorio = np.random.rand(5)\n",
        "arreglo_aleatorio"
      ]
    },
    {
      "cell_type": "markdown",
      "metadata": {
        "id": "9Cqxv686AI__"
      },
      "source": [
        "Generando una matris aleatoria de 3x3"
      ]
    },
    {
      "cell_type": "code",
      "execution_count": null,
      "metadata": {
        "colab": {
          "base_uri": "https://localhost:8080/"
        },
        "id": "SU5yQOCjAOjG",
        "outputId": "9a478b6c-a09c-4397-b137-a7c7e2716532"
      },
      "outputs": [
        {
          "ename": "",
          "evalue": "",
          "output_type": "error",
          "traceback": [
            "\u001b[1;31mLa ejecución de celdas con 'Python 3.12.3' requiere el paquete ipykernel.\n",
            "\u001b[1;31mEjecute el siguiente comando para instalar 'ipykernel' en el entorno de Python. comando \n",
            "\u001b[1;31m: 'c:/Users/ramon/AppData/Local/Programs/Python/Python312/python.exe -m pip install ipykernel -U --user --force-reinstall'"
          ]
        }
      ],
      "source": [
        "matriz = np.random.rand(3,3)\n",
        "matriz"
      ]
    },
    {
      "cell_type": "markdown",
      "metadata": {
        "id": "GT7U6P3lAdAc"
      },
      "source": [
        "Generando un arreglo aleatorio de 10 numeros enteros del 1 al 1000"
      ]
    },
    {
      "cell_type": "code",
      "execution_count": null,
      "metadata": {
        "colab": {
          "base_uri": "https://localhost:8080/"
        },
        "id": "dhxdnBQcAvBv",
        "outputId": "9a13ff90-ff6b-4d3d-a071-a31ebbd5d5db"
      },
      "outputs": [
        {
          "ename": "",
          "evalue": "",
          "output_type": "error",
          "traceback": [
            "\u001b[1;31mLa ejecución de celdas con 'Python 3.12.3' requiere el paquete ipykernel.\n",
            "\u001b[1;31mEjecute el siguiente comando para instalar 'ipykernel' en el entorno de Python. comando \n",
            "\u001b[1;31m: 'c:/Users/ramon/AppData/Local/Programs/Python/Python312/python.exe -m pip install ipykernel -U --user --force-reinstall'"
          ]
        }
      ],
      "source": [
        "arreglo_aleatorio2= np.random.randint(1,1001,10)\n",
        "arreglo_aleatorio2"
      ]
    },
    {
      "cell_type": "markdown",
      "metadata": {
        "id": "77Xrsdi7A-f5"
      },
      "source": [
        "Generando una matriz aleatoria de 10 numeros enteros del 1 al 100"
      ]
    },
    {
      "cell_type": "code",
      "execution_count": null,
      "metadata": {
        "colab": {
          "base_uri": "https://localhost:8080/"
        },
        "id": "NR0A8-eGBGom",
        "outputId": "80e8f541-a887-449e-8246-d54a58ffeb18"
      },
      "outputs": [
        {
          "ename": "",
          "evalue": "",
          "output_type": "error",
          "traceback": [
            "\u001b[1;31mLa ejecución de celdas con 'Python 3.12.3' requiere el paquete ipykernel.\n",
            "\u001b[1;31mEjecute el siguiente comando para instalar 'ipykernel' en el entorno de Python. comando \n",
            "\u001b[1;31m: 'c:/Users/ramon/AppData/Local/Programs/Python/Python312/python.exe -m pip install ipykernel -U --user --force-reinstall'"
          ]
        }
      ],
      "source": [
        "matriz2 = np.random.randint(1,101,(10,10))\n",
        "matriz2"
      ]
    }
  ],
  "metadata": {
    "colab": {
      "provenance": []
    },
    "kernelspec": {
      "display_name": "Python 3",
      "name": "python3"
    },
    "language_info": {
      "codemirror_mode": {
        "name": "ipython",
        "version": 3
      },
      "file_extension": ".py",
      "mimetype": "text/x-python",
      "name": "python",
      "nbconvert_exporter": "python",
      "pygments_lexer": "ipython3",
      "version": "3.12.4"
    }
  },
  "nbformat": 4,
  "nbformat_minor": 0
}
