{
  "nbformat": 4,
  "nbformat_minor": 0,
  "metadata": {
    "colab": {
      "provenance": []
    },
    "kernelspec": {
      "name": "python3",
      "display_name": "Python 3"
    },
    "language_info": {
      "name": "python"
    }
  },
  "cells": [
    {
      "cell_type": "markdown",
      "source": [
        "Desarrollar un código en Jupyter Notebook que trabaje con arrays y realice varias operaciones matemáticas y de manipulación de datos.\n",
        "\n",
        "El programa debe obtener la mediana, el promedio, y las\n",
        "posiciones de los valores máximo y mínimo de un array. Además, deberá transformar el array en una matriz y utilizar las funciones específicas para ello. A continuación se detalla los requerimientos:\n",
        "\n",
        "\n",
        "A. Crear un array de 10 elementos. Los elementos de este array deben ser consecutivos del 1 al 10. Este array no debe ser aleatorio.\n",
        "\n",
        "B. Crear un segundo array de 10 elementos. Este array si debe ser aleatorio. Los valores deben ser enteros entre el 1 al 20.\n",
        "\n",
        "C. Obtener un vector único de 10 elementos, sumando los dos arrays anteriores.\n",
        "\n",
        "D. Mezclar el vector obtenido en la letra C utilizando una función vista en la Unidad IV.\n",
        "\n",
        "E. Calcular la Mediana, el Promedio y Posiciones de Valores Máximo y Mínimo utilizando las funciones vistas en la Unidad IV. Tomar el vector de la letra D.\n",
        "\n",
        "E. Transformar el vector obtenido en una Matriz de 2 x 5\n"
      ],
      "metadata": {
        "id": "wb8TL-M4zXrz"
      }
    },
    {
      "cell_type": "code",
      "source": [
        "import numpy as np"
      ],
      "metadata": {
        "id": "DerFtrV_0UxQ"
      },
      "execution_count": 2,
      "outputs": []
    },
    {
      "cell_type": "code",
      "source": [
        "import random as rd"
      ],
      "metadata": {
        "id": "4csXVcQF0aaX"
      },
      "execution_count": 3,
      "outputs": []
    },
    {
      "cell_type": "markdown",
      "source": [
        "A. Crear un array de 10 elementos. Los elementos de este array deben ser consecutivos del 1 al 10. Este array no debe ser aleatorio."
      ],
      "metadata": {
        "id": "BbS1C5y82QWH"
      }
    },
    {
      "cell_type": "code",
      "source": [
        "array1 = np.arange(1, 11)\n",
        "array1"
      ],
      "metadata": {
        "colab": {
          "base_uri": "https://localhost:8080/"
        },
        "id": "-zSD464rSnWe",
        "outputId": "ae62e8ec-9b7a-41fd-9311-13fbc75ee138"
      },
      "execution_count": 5,
      "outputs": [
        {
          "output_type": "execute_result",
          "data": {
            "text/plain": [
              "array([ 1,  2,  3,  4,  5,  6,  7,  8,  9, 10])"
            ]
          },
          "metadata": {},
          "execution_count": 5
        }
      ]
    },
    {
      "cell_type": "markdown",
      "source": [
        "B. Crear un segundo array de 10 elementos. Este array si debe ser aleatorio. Los valores deben ser enteros entre el 1 al 20."
      ],
      "metadata": {
        "id": "qukAjf532ma1"
      }
    },
    {
      "cell_type": "code",
      "source": [
        "array2 = np.random.randint(1, 21, size=10)\n",
        "array2"
      ],
      "metadata": {
        "colab": {
          "base_uri": "https://localhost:8080/"
        },
        "id": "XO_UjEWO2pRE",
        "outputId": "c84f18fe-6eeb-49f5-e5a8-6767e9d73da0"
      },
      "execution_count": 7,
      "outputs": [
        {
          "output_type": "execute_result",
          "data": {
            "text/plain": [
              "array([17, 10,  6,  1,  7,  4, 13, 16, 11, 12])"
            ]
          },
          "metadata": {},
          "execution_count": 7
        }
      ]
    },
    {
      "cell_type": "markdown",
      "source": [
        "C. Obtener un vector único de 10 elementos, sumando los dos arrays anteriores."
      ],
      "metadata": {
        "id": "bbd5aJ693ejU"
      }
    },
    {
      "cell_type": "code",
      "source": [
        "vector= array1 + array2\n",
        "vector"
      ],
      "metadata": {
        "id": "2QfKhfy53hcm",
        "colab": {
          "base_uri": "https://localhost:8080/"
        },
        "outputId": "8b37280c-d591-48c8-cb1a-ddf34d5d1b52"
      },
      "execution_count": 8,
      "outputs": [
        {
          "output_type": "execute_result",
          "data": {
            "text/plain": [
              "array([18, 12,  9,  5, 12, 10, 20, 24, 20, 22])"
            ]
          },
          "metadata": {},
          "execution_count": 8
        }
      ]
    },
    {
      "cell_type": "markdown",
      "source": [
        "D. Mezclar el vector obtenido en la letra C utilizando una función vista en la Unidad IV."
      ],
      "metadata": {
        "id": "9a5WhXXkTSp_"
      }
    },
    {
      "cell_type": "code",
      "source": [
        "np.random.shuffle(vector)\n",
        "vector"
      ],
      "metadata": {
        "colab": {
          "base_uri": "https://localhost:8080/"
        },
        "id": "0voC7gKxTaRx",
        "outputId": "54ab9206-306a-4b4f-9ab0-18f9325e14c8"
      },
      "execution_count": 9,
      "outputs": [
        {
          "output_type": "execute_result",
          "data": {
            "text/plain": [
              "array([24, 20,  5, 12, 12, 22, 10, 20, 18,  9])"
            ]
          },
          "metadata": {},
          "execution_count": 9
        }
      ]
    },
    {
      "cell_type": "markdown",
      "source": [
        "E. Calcular la Mediana, el Promedio y Posiciones de Valores Máximo y Mínimo utilizando las funciones vistas en la Unidad IV. Tomar el vector de la letra D."
      ],
      "metadata": {
        "id": "onucdfC_Trip"
      }
    },
    {
      "cell_type": "code",
      "source": [
        "mediana = np.median(vector)\n",
        "mediana"
      ],
      "metadata": {
        "colab": {
          "base_uri": "https://localhost:8080/"
        },
        "id": "zJ2FaBcATsS5",
        "outputId": "86186930-ee9e-40b6-ec72-b185778693db"
      },
      "execution_count": 10,
      "outputs": [
        {
          "output_type": "execute_result",
          "data": {
            "text/plain": [
              "15.0"
            ]
          },
          "metadata": {},
          "execution_count": 10
        }
      ]
    },
    {
      "cell_type": "code",
      "source": [
        "promedio = np.mean(vector)\n",
        "promedio"
      ],
      "metadata": {
        "colab": {
          "base_uri": "https://localhost:8080/"
        },
        "id": "nUbyNkg5TvU0",
        "outputId": "aa8a87ad-821a-40d9-8e64-b2327444bd37"
      },
      "execution_count": 11,
      "outputs": [
        {
          "output_type": "execute_result",
          "data": {
            "text/plain": [
              "15.2"
            ]
          },
          "metadata": {},
          "execution_count": 11
        }
      ]
    },
    {
      "cell_type": "code",
      "source": [
        "valormaximo = np.max(vector)\n",
        "valormaximo"
      ],
      "metadata": {
        "colab": {
          "base_uri": "https://localhost:8080/"
        },
        "id": "0sldTgBPTyHg",
        "outputId": "7a670d74-6756-432d-f878-52edb7d4df51"
      },
      "execution_count": 13,
      "outputs": [
        {
          "output_type": "execute_result",
          "data": {
            "text/plain": [
              "24"
            ]
          },
          "metadata": {},
          "execution_count": 13
        }
      ]
    },
    {
      "cell_type": "code",
      "source": [
        "valorminimo = np.min(vector)\n",
        "valorminimo"
      ],
      "metadata": {
        "colab": {
          "base_uri": "https://localhost:8080/"
        },
        "id": "wTR9H7L1T1aR",
        "outputId": "4b877c37-a8e9-44cd-d5c5-3c48b1c01c3b"
      },
      "execution_count": 15,
      "outputs": [
        {
          "output_type": "execute_result",
          "data": {
            "text/plain": [
              "5"
            ]
          },
          "metadata": {},
          "execution_count": 15
        }
      ]
    },
    {
      "cell_type": "markdown",
      "source": [
        "F. Transformar el vector obtenido en una Matriz de 2 x 5"
      ],
      "metadata": {
        "id": "-YiVVG_gUBEi"
      }
    },
    {
      "cell_type": "code",
      "source": [
        "matirz = vector.reshape(2, 5)\n",
        "matirz"
      ],
      "metadata": {
        "colab": {
          "base_uri": "https://localhost:8080/"
        },
        "id": "vFTmQpw3UExB",
        "outputId": "a5d6234a-ebc1-4c8e-cfb9-366ee2a9555b"
      },
      "execution_count": 16,
      "outputs": [
        {
          "output_type": "execute_result",
          "data": {
            "text/plain": [
              "array([[24, 20,  5, 12, 12],\n",
              "       [22, 10, 20, 18,  9]])"
            ]
          },
          "metadata": {},
          "execution_count": 16
        }
      ]
    }
  ]
}