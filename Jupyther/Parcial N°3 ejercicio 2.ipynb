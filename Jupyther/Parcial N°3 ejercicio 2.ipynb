{
 "cells": [
  {
   "cell_type": "markdown",
   "metadata": {},
   "source": [
    "2. Crear un gráfico de barras que muestre la cantidad de canciones explícitas por artista.\n",
    "Tomar el dataframe creado en la letra C del ejercicio 1 y la columna (‘artist’) en el dataset.\n",
    "(40 Puntos)"
   ]
  },
  {
   "cell_type": "code",
   "execution_count": null,
   "metadata": {},
   "outputs": [],
   "source": [
    "\n",
    "import pandas as pd\n",
    "import numpy as np\n",
    "import matplotlib.pyplot as plt"
   ]
  },
  {
   "cell_type": "code",
   "execution_count": null,
   "metadata": {},
   "outputs": [],
   "source": [
    "dataIMDB = pd.read_csv(\"data/song_normalize.csv\", index_col=\"ID\")\n",
    "dataIMDB.head()"
   ]
  },
  {
   "cell_type": "code",
   "execution_count": null,
   "metadata": {},
   "outputs": [],
   "source": [
    "df_clean = df.dropna()\n",
    "explicitas = df_clean[df_clean['explicit'] == True]\n",
    "canciones = explicitas['artist'].value_counts()"
   ]
  },
  {
   "cell_type": "code",
   "execution_count": null,
   "metadata": {},
   "outputs": [],
   "source": [
    "plt.figure(figsize=(12, 6))\n",
    "canciones.plot(kind='bar')\n",
    "plt.title('Cantidad de canciones explícitas por artista')\n",
    "plt.xlabel('Artista')\n",
    "plt.ylabel('Cantidad de canciones explícitas')\n",
    "plt.xticks(rotation=45)\n",
    "plt.show()"
   ]
  }
 ],
 "metadata": {
  "kernelspec": {
   "display_name": "Python 3",
   "language": "python",
   "name": "python3"
  },
  "language_info": {
   "name": "python",
   "version": "3.12.4"
  }
 },
 "nbformat": 4,
 "nbformat_minor": 2
}
