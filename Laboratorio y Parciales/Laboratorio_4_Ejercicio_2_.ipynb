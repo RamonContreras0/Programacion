{
  "nbformat": 4,
  "nbformat_minor": 0,
  "metadata": {
    "colab": {
      "provenance": []
    },
    "kernelspec": {
      "name": "python3",
      "display_name": "Python 3"
    },
    "language_info": {
      "name": "python"
    }
  },
  "cells": [
    {
      "cell_type": "markdown",
      "source": [
        "2. Crear un gráfico de un vector aleatorio de 10 elementos utilizando un gráfico de líneas.\n",
        "\n",
        "A. Crear un array aleatorio de 10 elementos. Los valores deben ser enteros entre el intervalo -5 al 5.\n",
        "\n",
        "B. Implementar un gráfico de líneas simples a partir del vector obtenido. El gráfico debe tener:\n",
        "\n",
        "● Marcadores por cada punto\n",
        "\n",
        "● Etiqueta para el gráfico\n",
        "\n",
        "● Nombre del gráfico, y nombrar los ejes X e Y"
      ],
      "metadata": {
        "id": "qpJltJAKz6of"
      }
    },
    {
      "cell_type": "code",
      "source": [
        "import numpy as np"
      ],
      "metadata": {
        "id": "XgZPZj2m0Cwu"
      },
      "execution_count": 1,
      "outputs": []
    },
    {
      "cell_type": "code",
      "source": [
        "import random as rd"
      ],
      "metadata": {
        "id": "ln0-jAxS3pqs"
      },
      "execution_count": 2,
      "outputs": []
    },
    {
      "cell_type": "markdown",
      "source": [
        "A. Crear un array aleatorio de 10 elementos. Los valores deben ser enteros entre el intervalo -5 al 5."
      ],
      "metadata": {
        "id": "xTyvRuhB3shU"
      }
    },
    {
      "cell_type": "code",
      "source": [
        "Arreglo2= np.array(rd.randint(-5,5))\n",
        "Arreglo2"
      ],
      "metadata": {
        "colab": {
          "base_uri": "https://localhost:8080/"
        },
        "id": "u2Y0LH033wKN",
        "outputId": "dda5ded9-287d-48fe-f718-41e64d7b0630"
      },
      "execution_count": 3,
      "outputs": [
        {
          "output_type": "execute_result",
          "data": {
            "text/plain": [
              "array(3)"
            ]
          },
          "metadata": {},
          "execution_count": 3
        }
      ]
    }
  ]
}