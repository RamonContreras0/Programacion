{
  "nbformat": 4,
  "nbformat_minor": 0,
  "metadata": {
    "colab": {
      "provenance": []
    },
    "kernelspec": {
      "name": "python3",
      "display_name": "Python 3"
    },
    "language_info": {
      "name": "python"
    }
  },
  "cells": [
    {
      "cell_type": "markdown",
      "source": [
        "Desarrollar un código en Jupyter Notebook que trabaje con arrays y realice varias operaciones matemáticas y de manipulación de datos.\n",
        "\n",
        "El programa debe obtener la mediana, el promedio, y las\n",
        "posiciones de los valores máximo y mínimo de un array. Además, deberá transformar el array en una matriz y utilizar las funciones específicas para ello. A continuación se detalla los requerimientos:\n",
        "\n",
        "\n",
        "A. Crear un array de 10 elementos. Los elementos de este array deben ser consecutivos del 1 al 10. Este array no debe ser aleatorio.\n",
        "\n",
        "B. Crear un segundo array de 10 elementos. Este array si debe ser aleatorio. Los valores deben ser enteros entre el 1 al 20.\n",
        "\n",
        "C. Obtener un vector único de 10 elementos, sumando los dos arrays anteriores.\n",
        "\n",
        "D. Mezclar el vector obtenido en la letra C utilizando una función vista en la Unidad IV.\n",
        "\n",
        "E. Calcular la Mediana, el Promedio y Posiciones de Valores Máximo y Mínimo utilizando las funciones vistas en la Unidad IV. Tomar el vector de la letra D.\n",
        "\n",
        "E. Transformar el vector obtenido en una Matriz de 2 x 5\n"
      ],
      "metadata": {
        "id": "wb8TL-M4zXrz"
      }
    },
    {
      "cell_type": "code",
      "source": [
        "import numpy as np"
      ],
      "metadata": {
        "id": "DerFtrV_0UxQ"
      },
      "execution_count": 15,
      "outputs": []
    },
    {
      "cell_type": "code",
      "source": [
        "import random as rd"
      ],
      "metadata": {
        "id": "4csXVcQF0aaX"
      },
      "execution_count": 16,
      "outputs": []
    },
    {
      "cell_type": "markdown",
      "source": [
        "A. Crear un array de 10 elementos. Los elementos de este array deben ser consecutivos del 1 al 10. Este array no debe ser aleatorio."
      ],
      "metadata": {
        "id": "BbS1C5y82QWH"
      }
    },
    {
      "cell_type": "code",
      "source": [
        "Arreglo= np.array(range(1,11))\n",
        "Arreglo"
      ],
      "metadata": {
        "colab": {
          "base_uri": "https://localhost:8080/"
        },
        "id": "7WdbbP3uzt3A",
        "outputId": "265078c2-ee94-484d-9512-478350a59660"
      },
      "execution_count": 51,
      "outputs": [
        {
          "output_type": "execute_result",
          "data": {
            "text/plain": [
              "array([ 1,  2,  3,  4,  5,  6,  7,  8,  9, 10])"
            ]
          },
          "metadata": {},
          "execution_count": 51
        }
      ]
    },
    {
      "cell_type": "markdown",
      "source": [
        "B. Crear un segundo array de 10 elementos. Este array si debe ser aleatorio. Los valores deben ser enteros entre el 1 al 20."
      ],
      "metadata": {
        "id": "qukAjf532ma1"
      }
    },
    {
      "cell_type": "code",
      "source": [
        "Arreglo2= np.array(rd.randint(1,20))\n",
        "Arreglo2"
      ],
      "metadata": {
        "colab": {
          "base_uri": "https://localhost:8080/"
        },
        "id": "XO_UjEWO2pRE",
        "outputId": "bce53e20-b765-4501-bdde-9983c84e39b7"
      },
      "execution_count": 67,
      "outputs": [
        {
          "output_type": "execute_result",
          "data": {
            "text/plain": [
              "array(3)"
            ]
          },
          "metadata": {},
          "execution_count": 67
        }
      ]
    },
    {
      "cell_type": "markdown",
      "source": [
        "C. Obtener un vector único de 10 elementos, sumando los dos arrays anteriores."
      ],
      "metadata": {
        "id": "bbd5aJ693ejU"
      }
    },
    {
      "cell_type": "code",
      "source": [
        "#vector=np.vectorize(Arreglo + Arreglo2)\n",
        "#vector"
      ],
      "metadata": {
        "id": "2QfKhfy53hcm"
      },
      "execution_count": 71,
      "outputs": []
    }
  ]
}